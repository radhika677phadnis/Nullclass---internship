{
 "cells": [
  {
   "cell_type": "code",
   "execution_count": null,
   "id": "dce95116-46d4-44bd-8264-89e78f8e98ac",
   "metadata": {},
   "outputs": [],
   "source": [
    "#Task 4 is about the sign langugaes detection"
   ]
  },
  {
   "cell_type": "code",
   "execution_count": 1,
   "id": "515811e4-68ac-44e4-ae18-043f122d1f54",
   "metadata": {},
   "outputs": [
    {
     "name": "stdout",
     "output_type": "stream",
     "text": [
      "Collecting numpy<2\n",
      "  Using cached numpy-1.26.4-cp312-cp312-win_amd64.whl.metadata (61 kB)\n",
      "Using cached numpy-1.26.4-cp312-cp312-win_amd64.whl (15.5 MB)\n",
      "Installing collected packages: numpy\n",
      "  Attempting uninstall: numpy\n",
      "    Found existing installation: numpy 1.26.4\n",
      "    Uninstalling numpy-1.26.4:\n",
      "      Successfully uninstalled numpy-1.26.4\n",
      "Successfully installed numpy-1.26.4\n"
     ]
    },
    {
     "name": "stderr",
     "output_type": "stream",
     "text": [
      "ERROR: pip's dependency resolver does not currently take into account all the packages that are installed. This behaviour is the source of the following dependency conflicts.\n",
      "opencv-contrib-python 4.12.0.88 requires numpy<2.3.0,>=2; python_version >= \"3.9\", but you have numpy 1.26.4 which is incompatible.\n",
      "opencv-python 4.12.0.88 requires numpy<2.3.0,>=2; python_version >= \"3.9\", but you have numpy 1.26.4 which is incompatible.\n"
     ]
    }
   ],
   "source": [
    "!pip install \"numpy<2\" --force-reinstall\n"
   ]
  },
  {
   "cell_type": "code",
   "execution_count": 3,
   "id": "5a46e103-430a-441d-9f5a-5c5bf6aeee25",
   "metadata": {},
   "outputs": [
    {
     "name": "stdout",
     "output_type": "stream",
     "text": [
      "Requirement already satisfied: numpy==1.26.4 in c:\\users\\hp\\anaconda3\\lib\\site-packages (1.26.4)\n"
     ]
    }
   ],
   "source": [
    "!pip install numpy==1.26.4\n"
   ]
  },
  {
   "cell_type": "code",
   "execution_count": null,
   "id": "229bd1f2-db27-4ae1-a722-6cbf9f871c9c",
   "metadata": {},
   "outputs": [
    {
     "name": "stdout",
     "output_type": "stream",
     "text": [
      "Classes found: ['hurts', 'iloveyou', 'pain', 'stop']\n",
      "Total images: 400\n",
      "Training complete.\n",
      "Test Accuracy: 1.00\n"
     ]
    }
   ],
   "source": [
    "import os\n",
    "import cv2\n",
    "import numpy as np\n",
    "from sklearn.model_selection import train_test_split\n",
    "from sklearn.linear_model import LogisticRegression\n",
    "from tkinter import Tk, filedialog\n",
    "\n",
    "\n",
    "def load_dataset(path, image_size=(64, 64)):\n",
    "    X, y, labels = [], [], []\n",
    "    for i, folder in enumerate(sorted(os.listdir(path))):\n",
    "        fpath = os.path.join(path, folder)\n",
    "        if not os.path.isdir(fpath):\n",
    "            continue\n",
    "        labels.append(folder)\n",
    "        for file in os.listdir(fpath):\n",
    "            img_path = os.path.join(fpath, file)\n",
    "            img = cv2.imread(img_path)\n",
    "            if img is None:\n",
    "                continue\n",
    "            img = cv2.resize(img, image_size)\n",
    "            X.append(img.flatten())\n",
    "            y.append(i)\n",
    "    return np.array(X), np.array(y), labels\n",
    "\n",
    "dataset_path = r\"C:\\Users\\HP\\Downloads\\archive (2)\"  \n",
    "X, y, labels = load_dataset(dataset_path)\n",
    "\n",
    "print(f\"Classes found: {labels}\")\n",
    "print(f\"Total images: {len(X)}\")\n",
    "\n",
    "if len(X) == 0:\n",
    "    raise ValueError(\"No images found! Check dataset path and folder structure.\")\n",
    "\n",
    "X_train, X_test, y_train, y_test = train_test_split(X, y, test_size=0.2, random_state=42)\n",
    "\n",
    "model = LogisticRegression(max_iter=1000)\n",
    "model.fit(X_train, y_train)\n",
    "\n",
    "print(\"Training complete.\")\n",
    "print(f\"Test Accuracy: {model.score(X_test, y_test):.2f}\")\n",
    "\n",
    "#GUI\n",
    "def predict_image():\n",
    "    root = Tk()\n",
    "    root.withdraw()  \n",
    "    file_path = filedialog.askopenfilename(title=\"Select an image\")\n",
    "    if not file_path:\n",
    "        print(\"No file selected.\")\n",
    "        return\n",
    "\n",
    "    img = cv2.imread(file_path)\n",
    "    if img is None:\n",
    "        print(\"Invalid image.\")\n",
    "        return\n",
    "    img_resized = cv2.resize(img, (64, 64)).flatten().reshape(1, -1)\n",
    "\n",
    "    pred = model.predict(img_resized)[0]\n",
    "    print(f\"Prediction: {labels[pred]}\")\n",
    "\n",
    "\n",
    "predict_image()\n"
   ]
  },
  {
   "cell_type": "code",
   "execution_count": null,
   "id": "a0e2faba-48cc-4aa5-bce2-932303d90bf9",
   "metadata": {},
   "outputs": [],
   "source": [
    "from sklearn.metrics import confusion_matrix, classification_report\n",
    "import matplotlib.pyplot as plt, seaborn as sns\n",
    "\n",
    "y_pred = model.predict(X_test)\n",
    "cm = confusion_matrix(y_test,y_pred)\n",
    "\n",
    "plt.figure(figsize=(6,5))\n",
    "sns.heatmap(cm,annot=True,fmt=\"d\",xticklabels=labels,yticklabels=labels,cmap=\"Blues\")\n",
    "plt.xlabel(\"Predicted\")\n",
    "plt.ylabel(\"Actual\")\n",
    "plt.title(\"Confusion Matrix\")\n",
    "plt.show()\n",
    "\n",
    "print(classification_report(y_test,y_pred,target_names=labels))\n"
   ]
  },
  {
   "cell_type": "code",
   "execution_count": 1,
   "id": "a6e01cba-8549-414a-a663-10e1e594a325",
   "metadata": {},
   "outputs": [
    {
     "name": "stdout",
     "output_type": "stream",
     "text": [
      "Upload logic here\n",
      "Upload logic here\n",
      "Upload logic here\n",
      "Upload logic here\n",
      "Upload logic here\n",
      "Upload logic here\n",
      "Upload logic here\n",
      "Upload logic here\n",
      "Upload logic here\n",
      "Upload logic here\n",
      "Upload logic here\n"
     ]
    }
   ],
   "source": [
    "import datetime\n",
    "import tkinter as tk\n",
    "from tkinter import messagebox\n",
    "\n",
    "\n",
    "START_HOUR = 18\n",
    "END_HOUR = 22\n",
    "\n",
    "def check_time():\n",
    "    now = datetime.datetime.now().hour\n",
    "    if START_HOUR <= now < END_HOUR:\n",
    "        launch_gui()\n",
    "    else:\n",
    "        messagebox.showwarning(\"Access Denied\",\n",
    "                               \"Sign Language Detection is only available between 6 PM and 10 PM.\")\n",
    "\n",
    "def launch_gui():\n",
    "    root = tk.Tk()\n",
    "    root.title(\"Sign Language Detection\")\n",
    "    \n",
    "    \n",
    "    tk.Label(root, text=\"Welcome to Sign Language Detection\").pack(pady=20)\n",
    "    tk.Button(root, text=\"Upload Image\", command=lambda: print(\"Upload logic here\")).pack(pady=10)\n",
    "    tk.Button(root, text=\"Start Real-Time Video\", command=lambda: print(\"Video logic here\")).pack(pady=10)\n",
    "    \n",
    "    root.mainloop()\n",
    "\n",
    "if __name__ == \"__main__\":\n",
    "    check_time()\n"
   ]
  },
  {
   "cell_type": "code",
   "execution_count": null,
   "id": "ca3c0ece-8d52-4aa2-81d4-7bd614e72898",
   "metadata": {},
   "outputs": [],
   "source": [
    "#Requirement text\n",
    "\n",
    "#opencv\n",
    "#numpy\n",
    "#tkinter\n",
    "tensorflow \n",
    "keras\n",
    "scikit-learn\n",
    "matplotlib\n",
    "seaborn\n"
   ]
  },
  {
   "cell_type": "code",
   "execution_count": 5,
   "id": "7d42055a-61c9-44d4-9f6e-75b465a02590",
   "metadata": {},
   "outputs": [
    {
     "name": "stdout",
     "output_type": "stream",
     "text": [
      "Model saved as task4_sign_model.pt\n"
     ]
    }
   ],
   "source": [
    "import torch\n",
    "import torch.nn as nn\n",
    "import torch.optim as optim\n",
    "from torch.utils.data import DataLoader, Dataset\n",
    "import pandas as pd\n",
    "import numpy as np\n",
    "\n",
    "X = np.random.rand(200, 42)\n",
    "y = np.random.randint(0, 5, 200)\n",
    "df = pd.DataFrame(np.hstack([X, y.reshape(-1,1)]))\n",
    "df.to_csv(\"sign_language.csv\", index=False, header=False)\n",
    "\n",
    "class SignDataset(Dataset):\n",
    "    def __init__(self, csv_file):\n",
    "        self.data = pd.read_csv(csv_file, header=None)\n",
    "        self.X = self.data.iloc[:, :-1].values.astype(np.float32)\n",
    "        self.y = self.data.iloc[:, -1].values.astype(np.int64)\n",
    "    def __len__(self):\n",
    "        return len(self.data)\n",
    "    def __getitem__(self, idx):\n",
    "        return self.X[idx], self.y[idx]\n",
    "\n",
    "class SignNet(nn.Module):\n",
    "    def __init__(self, input_size, num_classes):\n",
    "        super(SignNet, self).__init__()\n",
    "        self.fc1 = nn.Linear(input_size, 128)\n",
    "        self.fc2 = nn.Linear(128, 64)\n",
    "        self.fc3 = nn.Linear(64, num_classes)\n",
    "    def forward(self, x):\n",
    "        x = torch.relu(self.fc1(x))\n",
    "        x = torch.relu(self.fc2(x))\n",
    "        return self.fc3(x)\n",
    "\n",
    "dataset = SignDataset(\"sign_language.csv\")\n",
    "dataloader = DataLoader(dataset, batch_size=32, shuffle=True)\n",
    "input_size = dataset.X.shape[1]\n",
    "num_classes = len(np.unique(dataset.y))\n",
    "\n",
    "model = SignNet(input_size, num_classes)\n",
    "criterion = nn.CrossEntropyLoss()\n",
    "optimizer = optim.Adam(model.parameters(), lr=0.001)\n",
    "\n",
    "for epoch in range(5):\n",
    "    for X, y in dataloader:\n",
    "        outputs = model(X)\n",
    "        loss = criterion(outputs, y)\n",
    "        optimizer.zero_grad()\n",
    "        loss.backward()\n",
    "        optimizer.step()\n",
    "\n",
    "torch.save(model.state_dict(), \"task4_sign_model.pt\")\n",
    "print(\"Model saved as task4_sign_model.pt\")\n"
   ]
  },
  {
   "cell_type": "code",
   "execution_count": null,
   "id": "a1576d91-7166-4cbf-bcea-fd861da0171f",
   "metadata": {},
   "outputs": [],
   "source": []
  }
 ],
 "metadata": {
  "kernelspec": {
   "display_name": "Python [conda env:base] *",
   "language": "python",
   "name": "conda-base-py"
  },
  "language_info": {
   "codemirror_mode": {
    "name": "ipython",
    "version": 3
   },
   "file_extension": ".py",
   "mimetype": "text/x-python",
   "name": "python",
   "nbconvert_exporter": "python",
   "pygments_lexer": "ipython3",
   "version": "3.12.7"
  }
 },
 "nbformat": 4,
 "nbformat_minor": 5
}
